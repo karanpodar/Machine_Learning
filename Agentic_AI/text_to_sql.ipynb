{
  "nbformat": 4,
  "nbformat_minor": 0,
  "metadata": {
    "colab": {
      "provenance": [],
      "authorship_tag": "ABX9TyOG03cd0q5iN8keQ/u0idjk",
      "include_colab_link": true
    },
    "kernelspec": {
      "name": "python3",
      "display_name": "Python 3"
    },
    "language_info": {
      "name": "python"
    }
  },
  "cells": [
    {
      "cell_type": "markdown",
      "metadata": {
        "id": "view-in-github",
        "colab_type": "text"
      },
      "source": [
        "<a href=\"https://colab.research.google.com/github/sudarshan-koirala/youtube-stuffs/blob/main/llamaindex/text_to_sql.ipynb\" target=\"_parent\"><img src=\"https://colab.research.google.com/assets/colab-badge.svg\" alt=\"Open In Colab\"/></a>"
      ]
    },
    {
      "cell_type": "markdown",
      "source": [
        "# Llama-Index Text-To-SQL"
      ],
      "metadata": {
        "id": "EpxskJ4JOVYW"
      }
    },
    {
      "cell_type": "code",
      "execution_count": null,
      "metadata": {
        "id": "0-YvGDrO4Tn6"
      },
      "outputs": [],
      "source": [
        "%%capture\n",
        "!pip install duckdb duckdb-engine llama-index"
      ]
    },
    {
      "cell_type": "code",
      "source": [
        "from llama_index import SQLDatabase, SimpleDirectoryReader, WikipediaReader, Document\n",
        "from llama_index.indices.struct_store import (\n",
        "    NLSQLTableQueryEngine,\n",
        "    SQLTableRetrieverQueryEngine,\n",
        ")"
      ],
      "metadata": {
        "id": "NUMufHl14ciR"
      },
      "execution_count": null,
      "outputs": []
    },
    {
      "cell_type": "code",
      "source": [
        "from IPython.display import Markdown, display"
      ],
      "metadata": {
        "id": "7WGZx6YV4mwC"
      },
      "execution_count": null,
      "outputs": []
    },
    {
      "cell_type": "markdown",
      "source": [
        "## Basic Text-to-SQL with `NLSQLTableQueryEngine`\n"
      ],
      "metadata": {
        "id": "hGQY3RCb4rry"
      }
    },
    {
      "cell_type": "code",
      "source": [
        "from sqlalchemy import (\n",
        "    create_engine,\n",
        "    MetaData,\n",
        "    Table,\n",
        "    Column,\n",
        "    String,\n",
        "    Integer,\n",
        "    select,\n",
        "    column,\n",
        ")"
      ],
      "metadata": {
        "id": "JTyRcBgj4evw"
      },
      "execution_count": null,
      "outputs": []
    },
    {
      "cell_type": "code",
      "source": [
        "# creates a SQLAlchemy engine object that connects to an in-memory DuckDB database.\n",
        "engine = create_engine(\"duckdb:///:memory:\") # https://duckdb.org/\n",
        "metadata_obj = MetaData()"
      ],
      "metadata": {
        "id": "Wqvet3gt4ujL"
      },
      "execution_count": null,
      "outputs": []
    },
    {
      "cell_type": "code",
      "source": [
        "# create city SQL table\n",
        "table_name = \"city_stats\"\n",
        "city_stats_table = Table(\n",
        "    table_name,\n",
        "    metadata_obj,\n",
        "    Column(\"city_name\", String(16), primary_key=True),\n",
        "    Column(\"population\", Integer),\n",
        "    Column(\"country\", String(16), nullable=False),\n",
        ")\n",
        "\n",
        "metadata_obj.create_all(engine)"
      ],
      "metadata": {
        "id": "ErBEeOBL4zG3"
      },
      "execution_count": null,
      "outputs": []
    },
    {
      "cell_type": "code",
      "source": [
        "# print tables\n",
        "metadata_obj.tables.keys()"
      ],
      "metadata": {
        "id": "_inyQSru41gV"
      },
      "execution_count": null,
      "outputs": []
    },
    {
      "cell_type": "markdown",
      "source": [
        "We introduce some test data into the `city_stats` table"
      ],
      "metadata": {
        "id": "5y-IAUkl49pV"
      }
    },
    {
      "cell_type": "code",
      "source": [
        "from sqlalchemy import insert\n",
        "\n",
        "rows = [\n",
        "    {\"city_name\": \"Toronto\", \"population\": 2930000, \"country\": \"Canada\"},\n",
        "    {\"city_name\": \"Tokyo\", \"population\": 13960000, \"country\": \"Japan\"},\n",
        "    {\"city_name\": \"Chicago\", \"population\": 2679000, \"country\": \"United States\"},\n",
        "    {\"city_name\": \"Seoul\", \"population\": 9776000, \"country\": \"South Korea\"},\n",
        "]\n",
        "for row in rows:\n",
        "    stmt = insert(city_stats_table).values(**row)\n",
        "    with engine.begin() as connection:\n",
        "        cursor = connection.execute(stmt)"
      ],
      "metadata": {
        "id": "ylXM_BwY44m8"
      },
      "execution_count": null,
      "outputs": []
    },
    {
      "cell_type": "code",
      "source": [
        "with engine.connect() as connection:\n",
        "    cursor = connection.exec_driver_sql(\"SELECT * FROM city_stats\")\n",
        "    print(cursor.fetchall())"
      ],
      "metadata": {
        "id": "TTdCNsKa5EYs"
      },
      "execution_count": null,
      "outputs": []
    },
    {
      "cell_type": "markdown",
      "source": [
        "### Create SQLDatabase Object"
      ],
      "metadata": {
        "id": "UdZu497V5J_-"
      }
    },
    {
      "cell_type": "code",
      "source": [
        "from llama_index import SQLDatabase"
      ],
      "metadata": {
        "id": "Pef61zv55G2X"
      },
      "execution_count": null,
      "outputs": []
    },
    {
      "cell_type": "code",
      "source": [
        "sql_database = SQLDatabase(engine, include_tables=[\"city_stats\"])"
      ],
      "metadata": {
        "id": "2OiUEAvZ5PGR"
      },
      "execution_count": null,
      "outputs": []
    },
    {
      "cell_type": "markdown",
      "source": [
        "### Query Index\n",
        "- An Index is a data structure that allows us to quickly retrieve relevant context for a user query\n",
        "- We are going to use the `NLSQLTableQueryEngine` as an query engine and run queries against it."
      ],
      "metadata": {
        "id": "64Pzlwzz5Uhm"
      }
    },
    {
      "cell_type": "markdown",
      "source": [
        "#### Using OpenAI model"
      ],
      "metadata": {
        "id": "vaJOnTsx7eJ-"
      }
    },
    {
      "cell_type": "code",
      "source": [
        "import os\n",
        "# https://platform.openai.com/account/api-keys\n",
        "os.environ[\"OPENAI_API_KEY\"] = \"OPENAI_API_KEY\""
      ],
      "metadata": {
        "id": "s8t8xW7l6ul6"
      },
      "execution_count": null,
      "outputs": []
    },
    {
      "cell_type": "code",
      "source": [
        "#define LLM\n",
        "from llama_index import ServiceContext, set_global_service_context\n",
        "from llama_index.llms import OpenAI\n",
        "\n",
        "llm = OpenAI(model=\"gpt-3.5-turbo\")\n",
        "\n",
        "# configure service context\n",
        "service_context = ServiceContext.from_defaults(llm=llm)"
      ],
      "metadata": {
        "id": "MYiS7v90D_e6"
      },
      "execution_count": null,
      "outputs": []
    },
    {
      "cell_type": "code",
      "source": [
        "#query_engine_openai = NLSQLTableQueryEngine(sql_database)\n",
        "query_engine_openai = NLSQLTableQueryEngine(sql_database, service_context=service_context)"
      ],
      "metadata": {
        "id": "XdMfXLzD7Vss"
      },
      "execution_count": null,
      "outputs": []
    },
    {
      "cell_type": "code",
      "source": [
        "response = query_engine_openai.query(\"Which city has the highest population?\")"
      ],
      "metadata": {
        "id": "8ncuuNcS77YS"
      },
      "execution_count": null,
      "outputs": []
    },
    {
      "cell_type": "code",
      "source": [
        "response.response"
      ],
      "metadata": {
        "id": "wsPba4XV9vWC"
      },
      "execution_count": null,
      "outputs": []
    },
    {
      "cell_type": "code",
      "source": [
        "response.metadata"
      ],
      "metadata": {
        "id": "_B9vvDE_90Im"
      },
      "execution_count": null,
      "outputs": []
    },
    {
      "cell_type": "code",
      "source": [
        "response_with_population = query_engine_openai.query(\"Which city has the highest population. Also provide the population?\")"
      ],
      "metadata": {
        "id": "HoMYd8AE93Oh"
      },
      "execution_count": null,
      "outputs": []
    },
    {
      "cell_type": "code",
      "source": [
        "response_with_population.response"
      ],
      "metadata": {
        "id": "QMTYMsfy-MaE"
      },
      "execution_count": null,
      "outputs": []
    },
    {
      "cell_type": "markdown",
      "source": [
        "## Advanced Text-to-SQL with `SQLTableRetrieverQueryEngine`\n",
        "\n",
        "- Let's assume that you have a large number of tables in your database, and putting all the table schemas into the prompt may overflow the text-to-SQL prompt.\n",
        "\n",
        "- We first index the schemas with our ObjectIndex, and then use our SQLTableRetrieverQueryEngine abstraction on top."
      ],
      "metadata": {
        "id": "pbK1Dzeu_Lkp"
      }
    },
    {
      "cell_type": "code",
      "source": [
        "# creates a SQLAlchemy engine object that connects to an in-memory DuckDB database.\n",
        "engine = create_engine(\"duckdb:///:memory:\")\n",
        "metadata_obj = MetaData()"
      ],
      "metadata": {
        "id": "ci5nXlOp-V3Z"
      },
      "execution_count": null,
      "outputs": []
    },
    {
      "cell_type": "code",
      "source": [
        "# create city_stats SQL table\n",
        "table_name = \"city_stats\"\n",
        "city_stats_table = Table(\n",
        "    table_name,\n",
        "    metadata_obj,\n",
        "    Column(\"city_name\", String(16), primary_key=True),\n",
        "    Column(\"population\", Integer),\n",
        "    Column(\"country\", String(16), nullable=False),\n",
        ")\n",
        "\n",
        "all_table_names = [\"city_stats\"]\n",
        "\n",
        "# create a ton of dummy tables\n",
        "n = 100\n",
        "for i in range(n):\n",
        "    tmp_table_name = f\"tmp_table_{i}\"\n",
        "    tmp_table = Table(\n",
        "        tmp_table_name,\n",
        "        metadata_obj,\n",
        "        Column(f\"tmp_field_{i}_1\", String(16), primary_key=True),\n",
        "        Column(f\"tmp_field_{i}_2\", Integer),\n",
        "        Column(f\"tmp_field_{i}_3\", String(16), nullable=False),\n",
        "    )\n",
        "    all_table_names.append(f\"tmp_table_{i}\")\n",
        "\n",
        "metadata_obj.create_all(engine)"
      ],
      "metadata": {
        "id": "-1giaCkh_eE7"
      },
      "execution_count": null,
      "outputs": []
    },
    {
      "cell_type": "code",
      "source": [
        "all_table_names"
      ],
      "metadata": {
        "id": "WPphhu1D_rgK"
      },
      "execution_count": null,
      "outputs": []
    },
    {
      "cell_type": "code",
      "source": [
        "with engine.connect() as connection:\n",
        "    cursor = connection.exec_driver_sql(\"SELECT * FROM city_stats\")\n",
        "    print(cursor.fetchall())"
      ],
      "metadata": {
        "id": "jAxntdNG_0km"
      },
      "execution_count": null,
      "outputs": []
    },
    {
      "cell_type": "code",
      "source": [
        "# insert dummy data\n",
        "from sqlalchemy import insert\n",
        "\n",
        "rows = [\n",
        "    {\"city_name\": \"Toronto\", \"population\": 2930000, \"country\": \"Canada\"},\n",
        "    {\"city_name\": \"Tokyo\", \"population\": 13960000, \"country\": \"Japan\"},\n",
        "    {\"city_name\": \"Chicago\", \"population\": 2679000, \"country\": \"United States\"},\n",
        "    {\"city_name\": \"Seoul\", \"population\": 9776000, \"country\": \"South Korea\"},\n",
        "]\n",
        "for row in rows:\n",
        "    stmt = insert(city_stats_table).values(**row)\n",
        "    with engine.begin() as connection:\n",
        "        cursor = connection.execute(stmt)"
      ],
      "metadata": {
        "id": "QUiqH47j_-2o"
      },
      "execution_count": null,
      "outputs": []
    },
    {
      "cell_type": "code",
      "source": [
        "with engine.connect() as connection:\n",
        "    cursor = connection.exec_driver_sql(\"SELECT * FROM city_stats\")\n",
        "    print(cursor.fetchall())"
      ],
      "metadata": {
        "id": "bMykppgAACUi"
      },
      "execution_count": null,
      "outputs": []
    },
    {
      "cell_type": "code",
      "source": [
        "with engine.connect() as connection:\n",
        "    cursor = connection.exec_driver_sql(\"SELECT * FROM tmp_table_99\")\n",
        "    print(cursor.fetchall())"
      ],
      "metadata": {
        "id": "toV2sbmUAEKK"
      },
      "execution_count": null,
      "outputs": []
    },
    {
      "cell_type": "code",
      "source": [
        "sql_database = SQLDatabase(engine, include_tables=[\"city_stats\"])"
      ],
      "metadata": {
        "id": "B1_pQlpzAHOs"
      },
      "execution_count": null,
      "outputs": []
    },
    {
      "cell_type": "markdown",
      "source": [
        "### Construct Object Index"
      ],
      "metadata": {
        "id": "YLlc7g9AAP3l"
      }
    },
    {
      "cell_type": "code",
      "source": [
        "from llama_index.indices.struct_store import SQLTableRetrieverQueryEngine\n",
        "from llama_index.objects import SQLTableNodeMapping, ObjectIndex, SQLTableSchema\n",
        "from llama_index import VectorStoreIndex"
      ],
      "metadata": {
        "id": "yRjfYx06ANpZ"
      },
      "execution_count": null,
      "outputs": []
    },
    {
      "cell_type": "code",
      "source": [
        "table_node_mapping = SQLTableNodeMapping(sql_database)\n",
        "\n",
        "table_schema_objs = []\n",
        "for table_name in all_table_names:\n",
        "    table_schema_objs.append(SQLTableSchema(table_name=table_name))\n",
        "\n",
        "obj_index = ObjectIndex.from_objects(\n",
        "    table_schema_objs,\n",
        "    table_node_mapping,\n",
        "    VectorStoreIndex,\n",
        ")"
      ],
      "metadata": {
        "id": "I3c9koCHASb8"
      },
      "execution_count": null,
      "outputs": []
    },
    {
      "cell_type": "code",
      "source": [
        "table_schema_objs"
      ],
      "metadata": {
        "id": "CxCSBGe5Ab85"
      },
      "execution_count": null,
      "outputs": []
    },
    {
      "cell_type": "markdown",
      "source": [
        "### Query Index with `SQLTableRetrieverQueryEngine`\n"
      ],
      "metadata": {
        "id": "o2OrplpMAmx5"
      }
    },
    {
      "cell_type": "code",
      "source": [
        "query_engine = SQLTableRetrieverQueryEngine(\n",
        "    sql_database,\n",
        "    obj_index.as_retriever(similarity_top_k=1),\n",
        "    #service_context=service_context\n",
        ")"
      ],
      "metadata": {
        "id": "ypE40KynAkS4"
      },
      "execution_count": null,
      "outputs": []
    },
    {
      "cell_type": "code",
      "source": [
        "response = query_engine.query(\"Which city has the highest population?\")"
      ],
      "metadata": {
        "id": "6J--KbE-A0EM"
      },
      "execution_count": null,
      "outputs": []
    },
    {
      "cell_type": "code",
      "source": [
        "response"
      ],
      "metadata": {
        "id": "bX4VkW7WA2WS"
      },
      "execution_count": null,
      "outputs": []
    },
    {
      "cell_type": "code",
      "source": [
        "response.response"
      ],
      "metadata": {
        "id": "X_WmuTobA4n2"
      },
      "execution_count": null,
      "outputs": []
    },
    {
      "cell_type": "code",
      "source": [
        "response.metadata"
      ],
      "metadata": {
        "id": "LqA36MiNA62L"
      },
      "execution_count": null,
      "outputs": []
    },
    {
      "cell_type": "code",
      "source": [],
      "metadata": {
        "id": "mqXIIJPaA87I"
      },
      "execution_count": null,
      "outputs": []
    }
  ]
}